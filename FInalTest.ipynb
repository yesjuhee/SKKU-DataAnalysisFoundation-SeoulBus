{
 "cells": [
  {
   "cell_type": "code",
   "execution_count": 14,
   "id": "195efbec",
   "metadata": {},
   "outputs": [],
   "source": [
    "import pandas as pd\n",
    "import numpy as np\n",
    "import matplotlib.pyplot as plt\n",
    "import seaborn as sns\n",
    "import warnings\n",
    "\n",
    "#warnings.filterwarnigns('ignore')\n",
    "pd.options.display.float_format = '{:.5f}'.format\n"
   ]
  },
  {
   "cell_type": "markdown",
   "id": "82606c0f",
   "metadata": {},
   "source": [
    "# 0. 데이터 보기"
   ]
  },
  {
   "cell_type": "markdown",
   "id": "483e4df4",
   "metadata": {},
   "source": [
    "## 0.1 데이터 불러오기"
   ]
  },
  {
   "cell_type": "code",
   "execution_count": 15,
   "id": "44a88134",
   "metadata": {},
   "outputs": [
    {
     "data": {
      "text/html": [
       "<div>\n",
       "<style scoped>\n",
       "    .dataframe tbody tr th:only-of-type {\n",
       "        vertical-align: middle;\n",
       "    }\n",
       "\n",
       "    .dataframe tbody tr th {\n",
       "        vertical-align: top;\n",
       "    }\n",
       "\n",
       "    .dataframe thead th {\n",
       "        text-align: right;\n",
       "    }\n",
       "</style>\n",
       "<table border=\"1\" class=\"dataframe\">\n",
       "  <thead>\n",
       "    <tr style=\"text-align: right;\">\n",
       "      <th></th>\n",
       "      <th>date</th>\n",
       "      <th>admin_ID</th>\n",
       "      <th>total_p</th>\n",
       "      <th>00_p</th>\n",
       "      <th>01_p</th>\n",
       "      <th>02_p</th>\n",
       "      <th>03_p</th>\n",
       "      <th>04_p</th>\n",
       "      <th>05_p</th>\n",
       "      <th>06_p</th>\n",
       "      <th>...</th>\n",
       "      <th>14_p</th>\n",
       "      <th>15_p</th>\n",
       "      <th>16_p</th>\n",
       "      <th>17_p</th>\n",
       "      <th>18_p</th>\n",
       "      <th>19_p</th>\n",
       "      <th>20_p</th>\n",
       "      <th>21_p</th>\n",
       "      <th>22_p</th>\n",
       "      <th>23_p</th>\n",
       "    </tr>\n",
       "  </thead>\n",
       "  <tbody>\n",
       "    <tr>\n",
       "      <th>0</th>\n",
       "      <td>20220524</td>\n",
       "      <td>1124082</td>\n",
       "      <td>14763</td>\n",
       "      <td>65</td>\n",
       "      <td>70</td>\n",
       "      <td>47</td>\n",
       "      <td>44</td>\n",
       "      <td>111</td>\n",
       "      <td>241</td>\n",
       "      <td>813</td>\n",
       "      <td>...</td>\n",
       "      <td>514</td>\n",
       "      <td>579</td>\n",
       "      <td>796</td>\n",
       "      <td>918</td>\n",
       "      <td>988</td>\n",
       "      <td>704</td>\n",
       "      <td>459</td>\n",
       "      <td>436</td>\n",
       "      <td>439</td>\n",
       "      <td>137</td>\n",
       "    </tr>\n",
       "    <tr>\n",
       "      <th>1</th>\n",
       "      <td>20220524</td>\n",
       "      <td>1124081</td>\n",
       "      <td>11842</td>\n",
       "      <td>38</td>\n",
       "      <td>29</td>\n",
       "      <td>29</td>\n",
       "      <td>9</td>\n",
       "      <td>158</td>\n",
       "      <td>182</td>\n",
       "      <td>431</td>\n",
       "      <td>...</td>\n",
       "      <td>448</td>\n",
       "      <td>492</td>\n",
       "      <td>969</td>\n",
       "      <td>902</td>\n",
       "      <td>1000</td>\n",
       "      <td>654</td>\n",
       "      <td>562</td>\n",
       "      <td>476</td>\n",
       "      <td>360</td>\n",
       "      <td>139</td>\n",
       "    </tr>\n",
       "    <tr>\n",
       "      <th>2</th>\n",
       "      <td>20220524</td>\n",
       "      <td>1106091</td>\n",
       "      <td>8163</td>\n",
       "      <td>11</td>\n",
       "      <td>4</td>\n",
       "      <td>0</td>\n",
       "      <td>0</td>\n",
       "      <td>52</td>\n",
       "      <td>192</td>\n",
       "      <td>378</td>\n",
       "      <td>...</td>\n",
       "      <td>342</td>\n",
       "      <td>317</td>\n",
       "      <td>430</td>\n",
       "      <td>452</td>\n",
       "      <td>615</td>\n",
       "      <td>425</td>\n",
       "      <td>250</td>\n",
       "      <td>240</td>\n",
       "      <td>190</td>\n",
       "      <td>95</td>\n",
       "    </tr>\n",
       "    <tr>\n",
       "      <th>3</th>\n",
       "      <td>20220524</td>\n",
       "      <td>1111079</td>\n",
       "      <td>12611</td>\n",
       "      <td>148</td>\n",
       "      <td>48</td>\n",
       "      <td>27</td>\n",
       "      <td>46</td>\n",
       "      <td>129</td>\n",
       "      <td>177</td>\n",
       "      <td>377</td>\n",
       "      <td>...</td>\n",
       "      <td>572</td>\n",
       "      <td>579</td>\n",
       "      <td>673</td>\n",
       "      <td>733</td>\n",
       "      <td>843</td>\n",
       "      <td>765</td>\n",
       "      <td>580</td>\n",
       "      <td>528</td>\n",
       "      <td>530</td>\n",
       "      <td>300</td>\n",
       "    </tr>\n",
       "    <tr>\n",
       "      <th>4</th>\n",
       "      <td>20220524</td>\n",
       "      <td>1121069</td>\n",
       "      <td>24299</td>\n",
       "      <td>198</td>\n",
       "      <td>25</td>\n",
       "      <td>28</td>\n",
       "      <td>18</td>\n",
       "      <td>70</td>\n",
       "      <td>302</td>\n",
       "      <td>519</td>\n",
       "      <td>...</td>\n",
       "      <td>939</td>\n",
       "      <td>1220</td>\n",
       "      <td>1475</td>\n",
       "      <td>1805</td>\n",
       "      <td>2441</td>\n",
       "      <td>2122</td>\n",
       "      <td>1642</td>\n",
       "      <td>1527</td>\n",
       "      <td>1554</td>\n",
       "      <td>985</td>\n",
       "    </tr>\n",
       "  </tbody>\n",
       "</table>\n",
       "<p>5 rows × 27 columns</p>\n",
       "</div>"
      ],
      "text/plain": [
       "       date  admin_ID  total_p  00_p  01_p  02_p  03_p  04_p  05_p  06_p  ...  \\\n",
       "0  20220524   1124082    14763    65    70    47    44   111   241   813  ...   \n",
       "1  20220524   1124081    11842    38    29    29     9   158   182   431  ...   \n",
       "2  20220524   1106091     8163    11     4     0     0    52   192   378  ...   \n",
       "3  20220524   1111079    12611   148    48    27    46   129   177   377  ...   \n",
       "4  20220524   1121069    24299   198    25    28    18    70   302   519  ...   \n",
       "\n",
       "   14_p  15_p  16_p  17_p  18_p  19_p  20_p  21_p  22_p  23_p  \n",
       "0   514   579   796   918   988   704   459   436   439   137  \n",
       "1   448   492   969   902  1000   654   562   476   360   139  \n",
       "2   342   317   430   452   615   425   250   240   190    95  \n",
       "3   572   579   673   733   843   765   580   528   530   300  \n",
       "4   939  1220  1475  1805  2441  2122  1642  1527  1554   985  \n",
       "\n",
       "[5 rows x 27 columns]"
      ]
     },
     "execution_count": 15,
     "metadata": {},
     "output_type": "execute_result"
    }
   ],
   "source": [
    "df = pd.read_csv(\"SeoulBusPassengers.csv\")\n",
    "df.head()"
   ]
  },
  {
   "cell_type": "markdown",
   "id": "1f832d78",
   "metadata": {},
   "source": [
    "## 0.2 데이터 특성 파악"
   ]
  },
  {
   "cell_type": "code",
   "execution_count": 16,
   "id": "1a2adbb0",
   "metadata": {},
   "outputs": [
    {
     "data": {
      "text/plain": [
       "(60632, 27)"
      ]
     },
     "execution_count": 16,
     "metadata": {},
     "output_type": "execute_result"
    }
   ],
   "source": [
    "df.shape"
   ]
  },
  {
   "cell_type": "code",
   "execution_count": 17,
   "id": "1bebe322",
   "metadata": {},
   "outputs": [
    {
     "name": "stdout",
     "output_type": "stream",
     "text": [
      "<class 'pandas.core.frame.DataFrame'>\n",
      "RangeIndex: 60632 entries, 0 to 60631\n",
      "Data columns (total 27 columns):\n",
      " #   Column    Non-Null Count  Dtype\n",
      "---  ------    --------------  -----\n",
      " 0   date      60632 non-null  int64\n",
      " 1   admin_ID  60632 non-null  int64\n",
      " 2   total_p   60632 non-null  int64\n",
      " 3   00_p      60632 non-null  int64\n",
      " 4   01_p      60632 non-null  int64\n",
      " 5   02_p      60632 non-null  int64\n",
      " 6   03_p      60632 non-null  int64\n",
      " 7   04_p      60632 non-null  int64\n",
      " 8   05_p      60632 non-null  int64\n",
      " 9   06_p      60632 non-null  int64\n",
      " 10  07_p      60632 non-null  int64\n",
      " 11  08_p      60632 non-null  int64\n",
      " 12  09_p      60632 non-null  int64\n",
      " 13  10_p      60632 non-null  int64\n",
      " 14  11_p      60632 non-null  int64\n",
      " 15  12_p      60632 non-null  int64\n",
      " 16  13_p      60632 non-null  int64\n",
      " 17  14_p      60632 non-null  int64\n",
      " 18  15_p      60632 non-null  int64\n",
      " 19  16_p      60632 non-null  int64\n",
      " 20  17_p      60632 non-null  int64\n",
      " 21  18_p      60632 non-null  int64\n",
      " 22  19_p      60632 non-null  int64\n",
      " 23  20_p      60632 non-null  int64\n",
      " 24  21_p      60632 non-null  int64\n",
      " 25  22_p      60632 non-null  int64\n",
      " 26  23_p      60632 non-null  int64\n",
      "dtypes: int64(27)\n",
      "memory usage: 12.5 MB\n"
     ]
    }
   ],
   "source": [
    "df.info()"
   ]
  },
  {
   "cell_type": "code",
   "execution_count": 18,
   "id": "c697e7c4",
   "metadata": {
    "scrolled": false
   },
   "outputs": [
    {
     "data": {
      "text/html": [
       "<div>\n",
       "<style scoped>\n",
       "    .dataframe tbody tr th:only-of-type {\n",
       "        vertical-align: middle;\n",
       "    }\n",
       "\n",
       "    .dataframe tbody tr th {\n",
       "        vertical-align: top;\n",
       "    }\n",
       "\n",
       "    .dataframe thead th {\n",
       "        text-align: right;\n",
       "    }\n",
       "</style>\n",
       "<table border=\"1\" class=\"dataframe\">\n",
       "  <thead>\n",
       "    <tr style=\"text-align: right;\">\n",
       "      <th></th>\n",
       "      <th>date</th>\n",
       "      <th>admin_ID</th>\n",
       "      <th>total_p</th>\n",
       "      <th>00_p</th>\n",
       "      <th>01_p</th>\n",
       "      <th>02_p</th>\n",
       "      <th>03_p</th>\n",
       "      <th>04_p</th>\n",
       "      <th>05_p</th>\n",
       "      <th>06_p</th>\n",
       "      <th>...</th>\n",
       "      <th>14_p</th>\n",
       "      <th>15_p</th>\n",
       "      <th>16_p</th>\n",
       "      <th>17_p</th>\n",
       "      <th>18_p</th>\n",
       "      <th>19_p</th>\n",
       "      <th>20_p</th>\n",
       "      <th>21_p</th>\n",
       "      <th>22_p</th>\n",
       "      <th>23_p</th>\n",
       "    </tr>\n",
       "  </thead>\n",
       "  <tbody>\n",
       "    <tr>\n",
       "      <th>count</th>\n",
       "      <td>60632.00000</td>\n",
       "      <td>60632.00000</td>\n",
       "      <td>60632.00000</td>\n",
       "      <td>60632.00000</td>\n",
       "      <td>60632.00000</td>\n",
       "      <td>60632.00000</td>\n",
       "      <td>60632.00000</td>\n",
       "      <td>60632.00000</td>\n",
       "      <td>60632.00000</td>\n",
       "      <td>60632.00000</td>\n",
       "      <td>...</td>\n",
       "      <td>60632.00000</td>\n",
       "      <td>60632.00000</td>\n",
       "      <td>60632.00000</td>\n",
       "      <td>60632.00000</td>\n",
       "      <td>60632.00000</td>\n",
       "      <td>60632.00000</td>\n",
       "      <td>60632.00000</td>\n",
       "      <td>60632.00000</td>\n",
       "      <td>60632.00000</td>\n",
       "      <td>60632.00000</td>\n",
       "    </tr>\n",
       "    <tr>\n",
       "      <th>mean</th>\n",
       "      <td>20220308.03497</td>\n",
       "      <td>1113663.87972</td>\n",
       "      <td>8840.10824</td>\n",
       "      <td>45.98408</td>\n",
       "      <td>8.98992</td>\n",
       "      <td>4.40797</td>\n",
       "      <td>4.23582</td>\n",
       "      <td>52.57033</td>\n",
       "      <td>124.79212</td>\n",
       "      <td>240.39464</td>\n",
       "      <td>...</td>\n",
       "      <td>477.52970</td>\n",
       "      <td>530.97912</td>\n",
       "      <td>593.31017</td>\n",
       "      <td>646.36878</td>\n",
       "      <td>740.13311</td>\n",
       "      <td>532.49857</td>\n",
       "      <td>405.41909</td>\n",
       "      <td>416.34132</td>\n",
       "      <td>327.40710</td>\n",
       "      <td>158.04925</td>\n",
       "    </tr>\n",
       "    <tr>\n",
       "      <th>std</th>\n",
       "      <td>137.72674</td>\n",
       "      <td>7402.80356</td>\n",
       "      <td>7074.29007</td>\n",
       "      <td>87.83533</td>\n",
       "      <td>26.47970</td>\n",
       "      <td>12.77197</td>\n",
       "      <td>12.15524</td>\n",
       "      <td>58.48955</td>\n",
       "      <td>101.12503</td>\n",
       "      <td>183.24353</td>\n",
       "      <td>...</td>\n",
       "      <td>370.36210</td>\n",
       "      <td>433.95091</td>\n",
       "      <td>496.43406</td>\n",
       "      <td>608.86969</td>\n",
       "      <td>793.34206</td>\n",
       "      <td>534.95359</td>\n",
       "      <td>417.48905</td>\n",
       "      <td>460.73316</td>\n",
       "      <td>362.20251</td>\n",
       "      <td>208.52357</td>\n",
       "    </tr>\n",
       "    <tr>\n",
       "      <th>min</th>\n",
       "      <td>20220101.00000</td>\n",
       "      <td>1101053.00000</td>\n",
       "      <td>63.00000</td>\n",
       "      <td>0.00000</td>\n",
       "      <td>0.00000</td>\n",
       "      <td>0.00000</td>\n",
       "      <td>0.00000</td>\n",
       "      <td>0.00000</td>\n",
       "      <td>0.00000</td>\n",
       "      <td>0.00000</td>\n",
       "      <td>...</td>\n",
       "      <td>1.00000</td>\n",
       "      <td>1.00000</td>\n",
       "      <td>2.00000</td>\n",
       "      <td>0.00000</td>\n",
       "      <td>0.00000</td>\n",
       "      <td>1.00000</td>\n",
       "      <td>0.00000</td>\n",
       "      <td>0.00000</td>\n",
       "      <td>0.00000</td>\n",
       "      <td>0.00000</td>\n",
       "    </tr>\n",
       "    <tr>\n",
       "      <th>25%</th>\n",
       "      <td>20220206.00000</td>\n",
       "      <td>1107069.75000</td>\n",
       "      <td>4292.00000</td>\n",
       "      <td>9.00000</td>\n",
       "      <td>0.00000</td>\n",
       "      <td>0.00000</td>\n",
       "      <td>0.00000</td>\n",
       "      <td>12.00000</td>\n",
       "      <td>50.00000</td>\n",
       "      <td>102.00000</td>\n",
       "      <td>...</td>\n",
       "      <td>246.00000</td>\n",
       "      <td>261.00000</td>\n",
       "      <td>280.00000</td>\n",
       "      <td>288.00000</td>\n",
       "      <td>278.00000</td>\n",
       "      <td>203.00000</td>\n",
       "      <td>157.00000</td>\n",
       "      <td>151.00000</td>\n",
       "      <td>113.00000</td>\n",
       "      <td>46.00000</td>\n",
       "    </tr>\n",
       "    <tr>\n",
       "      <th>50%</th>\n",
       "      <td>20220314.00000</td>\n",
       "      <td>1114068.50000</td>\n",
       "      <td>6858.50000</td>\n",
       "      <td>21.00000</td>\n",
       "      <td>2.00000</td>\n",
       "      <td>1.00000</td>\n",
       "      <td>1.00000</td>\n",
       "      <td>32.00000</td>\n",
       "      <td>97.00000</td>\n",
       "      <td>195.00000</td>\n",
       "      <td>...</td>\n",
       "      <td>378.00000</td>\n",
       "      <td>410.00000</td>\n",
       "      <td>450.00000</td>\n",
       "      <td>471.00000</td>\n",
       "      <td>503.00000</td>\n",
       "      <td>359.00000</td>\n",
       "      <td>275.00000</td>\n",
       "      <td>272.00000</td>\n",
       "      <td>213.00000</td>\n",
       "      <td>92.00000</td>\n",
       "    </tr>\n",
       "    <tr>\n",
       "      <th>75%</th>\n",
       "      <td>20220419.00000</td>\n",
       "      <td>1120317.75000</td>\n",
       "      <td>11148.25000</td>\n",
       "      <td>48.00000</td>\n",
       "      <td>8.00000</td>\n",
       "      <td>4.00000</td>\n",
       "      <td>4.00000</td>\n",
       "      <td>72.00000</td>\n",
       "      <td>172.00000</td>\n",
       "      <td>331.00000</td>\n",
       "      <td>...</td>\n",
       "      <td>598.00000</td>\n",
       "      <td>668.00000</td>\n",
       "      <td>748.00000</td>\n",
       "      <td>796.00000</td>\n",
       "      <td>898.00000</td>\n",
       "      <td>656.00000</td>\n",
       "      <td>495.00000</td>\n",
       "      <td>500.00000</td>\n",
       "      <td>399.00000</td>\n",
       "      <td>186.00000</td>\n",
       "    </tr>\n",
       "    <tr>\n",
       "      <th>max</th>\n",
       "      <td>20220524.00000</td>\n",
       "      <td>1125074.00000</td>\n",
       "      <td>75650.00000</td>\n",
       "      <td>2368.00000</td>\n",
       "      <td>1122.00000</td>\n",
       "      <td>497.00000</td>\n",
       "      <td>464.00000</td>\n",
       "      <td>442.00000</td>\n",
       "      <td>910.00000</td>\n",
       "      <td>1375.00000</td>\n",
       "      <td>...</td>\n",
       "      <td>4676.00000</td>\n",
       "      <td>5300.00000</td>\n",
       "      <td>6147.00000</td>\n",
       "      <td>6871.00000</td>\n",
       "      <td>8885.00000</td>\n",
       "      <td>5761.00000</td>\n",
       "      <td>5135.00000</td>\n",
       "      <td>5705.00000</td>\n",
       "      <td>4362.00000</td>\n",
       "      <td>3912.00000</td>\n",
       "    </tr>\n",
       "  </tbody>\n",
       "</table>\n",
       "<p>8 rows × 27 columns</p>\n",
       "</div>"
      ],
      "text/plain": [
       "                date      admin_ID     total_p        00_p        01_p  \\\n",
       "count    60632.00000   60632.00000 60632.00000 60632.00000 60632.00000   \n",
       "mean  20220308.03497 1113663.87972  8840.10824    45.98408     8.98992   \n",
       "std        137.72674    7402.80356  7074.29007    87.83533    26.47970   \n",
       "min   20220101.00000 1101053.00000    63.00000     0.00000     0.00000   \n",
       "25%   20220206.00000 1107069.75000  4292.00000     9.00000     0.00000   \n",
       "50%   20220314.00000 1114068.50000  6858.50000    21.00000     2.00000   \n",
       "75%   20220419.00000 1120317.75000 11148.25000    48.00000     8.00000   \n",
       "max   20220524.00000 1125074.00000 75650.00000  2368.00000  1122.00000   \n",
       "\n",
       "             02_p        03_p        04_p        05_p        06_p  ...  \\\n",
       "count 60632.00000 60632.00000 60632.00000 60632.00000 60632.00000  ...   \n",
       "mean      4.40797     4.23582    52.57033   124.79212   240.39464  ...   \n",
       "std      12.77197    12.15524    58.48955   101.12503   183.24353  ...   \n",
       "min       0.00000     0.00000     0.00000     0.00000     0.00000  ...   \n",
       "25%       0.00000     0.00000    12.00000    50.00000   102.00000  ...   \n",
       "50%       1.00000     1.00000    32.00000    97.00000   195.00000  ...   \n",
       "75%       4.00000     4.00000    72.00000   172.00000   331.00000  ...   \n",
       "max     497.00000   464.00000   442.00000   910.00000  1375.00000  ...   \n",
       "\n",
       "             14_p        15_p        16_p        17_p        18_p        19_p  \\\n",
       "count 60632.00000 60632.00000 60632.00000 60632.00000 60632.00000 60632.00000   \n",
       "mean    477.52970   530.97912   593.31017   646.36878   740.13311   532.49857   \n",
       "std     370.36210   433.95091   496.43406   608.86969   793.34206   534.95359   \n",
       "min       1.00000     1.00000     2.00000     0.00000     0.00000     1.00000   \n",
       "25%     246.00000   261.00000   280.00000   288.00000   278.00000   203.00000   \n",
       "50%     378.00000   410.00000   450.00000   471.00000   503.00000   359.00000   \n",
       "75%     598.00000   668.00000   748.00000   796.00000   898.00000   656.00000   \n",
       "max    4676.00000  5300.00000  6147.00000  6871.00000  8885.00000  5761.00000   \n",
       "\n",
       "             20_p        21_p        22_p        23_p  \n",
       "count 60632.00000 60632.00000 60632.00000 60632.00000  \n",
       "mean    405.41909   416.34132   327.40710   158.04925  \n",
       "std     417.48905   460.73316   362.20251   208.52357  \n",
       "min       0.00000     0.00000     0.00000     0.00000  \n",
       "25%     157.00000   151.00000   113.00000    46.00000  \n",
       "50%     275.00000   272.00000   213.00000    92.00000  \n",
       "75%     495.00000   500.00000   399.00000   186.00000  \n",
       "max    5135.00000  5705.00000  4362.00000  3912.00000  \n",
       "\n",
       "[8 rows x 27 columns]"
      ]
     },
     "execution_count": 18,
     "metadata": {},
     "output_type": "execute_result"
    }
   ],
   "source": [
    "df.describe()"
   ]
  },
  {
   "cell_type": "markdown",
   "id": "0ccd7a89",
   "metadata": {},
   "source": [
    "- 총 데이터 개수는 60632개\n",
    "- 20220101~20220524\n",
    "- admin_ID는 필요 없을 듯 한데 모두 합칠까?"
   ]
  },
  {
   "cell_type": "markdown",
   "id": "bd7487f0",
   "metadata": {},
   "source": [
    "# 1. 데이터 전처리"
   ]
  },
  {
   "cell_type": "markdown",
   "id": "5d75c0fe",
   "metadata": {},
   "source": [
    "## 1.1 admin_ID"
   ]
  },
  {
   "cell_type": "code",
   "execution_count": 21,
   "id": "64ab3398",
   "metadata": {},
   "outputs": [
    {
     "data": {
      "text/plain": [
       "1124082    143\n",
       "1101055    143\n",
       "1101058    143\n",
       "1101060    143\n",
       "1104052    143\n",
       "          ... \n",
       "1108072    143\n",
       "1108081    143\n",
       "1109060    143\n",
       "1109064    143\n",
       "1115065    143\n",
       "Name: admin_ID, Length: 424, dtype: int64"
      ]
     },
     "execution_count": 21,
     "metadata": {},
     "output_type": "execute_result"
    }
   ],
   "source": [
    "df['admin_ID'].value_counts()"
   ]
  },
  {
   "cell_type": "code",
   "execution_count": 22,
   "id": "2bd603f9",
   "metadata": {},
   "outputs": [
    {
     "data": {
      "text/plain": [
       "20220524    424\n",
       "20220215    424\n",
       "20220221    424\n",
       "20220220    424\n",
       "20220219    424\n",
       "           ... \n",
       "20220406    424\n",
       "20220405    424\n",
       "20220404    424\n",
       "20220403    424\n",
       "20220101    424\n",
       "Name: date, Length: 143, dtype: int64"
      ]
     },
     "execution_count": 22,
     "metadata": {},
     "output_type": "execute_result"
    }
   ],
   "source": [
    "df['date'].value_counts()"
   ]
  },
  {
   "cell_type": "markdown",
   "id": "136c9018",
   "metadata": {},
   "source": [
    "- 143일의 데이터가 존재\n",
    "- 각 날짜에는 행정구역별로 424개의 추가 데이터가 존재함\n",
    "- 행정구역을 나누는 것 보다는 서울 전체의 이용객 추이가 궁금한 것이기 때문에 날짜를 기준으로 데이터를 다시 정렬하자"
   ]
  },
  {
   "cell_type": "code",
   "execution_count": 45,
   "id": "1196e1af",
   "metadata": {},
   "outputs": [],
   "source": [
    "df = df.groupby(['date'], as_index=False, ).mean().drop(['admin_ID'], axis=1)"
   ]
  },
  {
   "cell_type": "code",
   "execution_count": 46,
   "id": "0936852f",
   "metadata": {},
   "outputs": [
    {
     "name": "stdout",
     "output_type": "stream",
     "text": [
      "(143, 26)\n"
     ]
    },
    {
     "data": {
      "text/html": [
       "<div>\n",
       "<style scoped>\n",
       "    .dataframe tbody tr th:only-of-type {\n",
       "        vertical-align: middle;\n",
       "    }\n",
       "\n",
       "    .dataframe tbody tr th {\n",
       "        vertical-align: top;\n",
       "    }\n",
       "\n",
       "    .dataframe thead th {\n",
       "        text-align: right;\n",
       "    }\n",
       "</style>\n",
       "<table border=\"1\" class=\"dataframe\">\n",
       "  <thead>\n",
       "    <tr style=\"text-align: right;\">\n",
       "      <th></th>\n",
       "      <th>date</th>\n",
       "      <th>total_p</th>\n",
       "      <th>00_p</th>\n",
       "      <th>01_p</th>\n",
       "      <th>02_p</th>\n",
       "      <th>03_p</th>\n",
       "      <th>04_p</th>\n",
       "      <th>05_p</th>\n",
       "      <th>06_p</th>\n",
       "      <th>07_p</th>\n",
       "      <th>...</th>\n",
       "      <th>14_p</th>\n",
       "      <th>15_p</th>\n",
       "      <th>16_p</th>\n",
       "      <th>17_p</th>\n",
       "      <th>18_p</th>\n",
       "      <th>19_p</th>\n",
       "      <th>20_p</th>\n",
       "      <th>21_p</th>\n",
       "      <th>22_p</th>\n",
       "      <th>23_p</th>\n",
       "    </tr>\n",
       "  </thead>\n",
       "  <tbody>\n",
       "    <tr>\n",
       "      <th>0</th>\n",
       "      <td>20220101</td>\n",
       "      <td>4434.24528</td>\n",
       "      <td>15.76887</td>\n",
       "      <td>3.12028</td>\n",
       "      <td>1.66274</td>\n",
       "      <td>1.45283</td>\n",
       "      <td>16.04245</td>\n",
       "      <td>55.25236</td>\n",
       "      <td>91.55189</td>\n",
       "      <td>102.32075</td>\n",
       "      <td>...</td>\n",
       "      <td>324.93396</td>\n",
       "      <td>346.96934</td>\n",
       "      <td>361.64858</td>\n",
       "      <td>361.41981</td>\n",
       "      <td>305.62028</td>\n",
       "      <td>228.89623</td>\n",
       "      <td>235.08962</td>\n",
       "      <td>322.15802</td>\n",
       "      <td>184.67217</td>\n",
       "      <td>69.03066</td>\n",
       "    </tr>\n",
       "    <tr>\n",
       "      <th>1</th>\n",
       "      <td>20220102</td>\n",
       "      <td>4914.44575</td>\n",
       "      <td>14.59198</td>\n",
       "      <td>2.83962</td>\n",
       "      <td>1.62028</td>\n",
       "      <td>2.42453</td>\n",
       "      <td>14.06132</td>\n",
       "      <td>47.26179</td>\n",
       "      <td>75.37264</td>\n",
       "      <td>101.00708</td>\n",
       "      <td>...</td>\n",
       "      <td>370.85849</td>\n",
       "      <td>387.57075</td>\n",
       "      <td>393.92453</td>\n",
       "      <td>384.72642</td>\n",
       "      <td>330.62500</td>\n",
       "      <td>257.03302</td>\n",
       "      <td>267.66274</td>\n",
       "      <td>328.26415</td>\n",
       "      <td>176.75000</td>\n",
       "      <td>65.78066</td>\n",
       "    </tr>\n",
       "    <tr>\n",
       "      <th>2</th>\n",
       "      <td>20220103</td>\n",
       "      <td>9546.31368</td>\n",
       "      <td>22.16981</td>\n",
       "      <td>4.79481</td>\n",
       "      <td>3.21698</td>\n",
       "      <td>3.63443</td>\n",
       "      <td>62.38443</td>\n",
       "      <td>141.55425</td>\n",
       "      <td>291.20519</td>\n",
       "      <td>701.20991</td>\n",
       "      <td>...</td>\n",
       "      <td>481.22406</td>\n",
       "      <td>522.90566</td>\n",
       "      <td>568.70755</td>\n",
       "      <td>694.84906</td>\n",
       "      <td>901.17925</td>\n",
       "      <td>634.24528</td>\n",
       "      <td>453.98113</td>\n",
       "      <td>489.29481</td>\n",
       "      <td>274.91981</td>\n",
       "      <td>98.75943</td>\n",
       "    </tr>\n",
       "    <tr>\n",
       "      <th>3</th>\n",
       "      <td>20220104</td>\n",
       "      <td>9833.57075</td>\n",
       "      <td>22.83255</td>\n",
       "      <td>5.32075</td>\n",
       "      <td>3.31368</td>\n",
       "      <td>3.78538</td>\n",
       "      <td>66.11321</td>\n",
       "      <td>145.05189</td>\n",
       "      <td>290.80189</td>\n",
       "      <td>699.56840</td>\n",
       "      <td>...</td>\n",
       "      <td>487.87028</td>\n",
       "      <td>536.90802</td>\n",
       "      <td>585.61557</td>\n",
       "      <td>711.08491</td>\n",
       "      <td>918.57547</td>\n",
       "      <td>637.46226</td>\n",
       "      <td>472.20991</td>\n",
       "      <td>538.37028</td>\n",
       "      <td>298.92217</td>\n",
       "      <td>102.95991</td>\n",
       "    </tr>\n",
       "    <tr>\n",
       "      <th>4</th>\n",
       "      <td>20220105</td>\n",
       "      <td>9833.57075</td>\n",
       "      <td>22.83255</td>\n",
       "      <td>5.32075</td>\n",
       "      <td>3.31368</td>\n",
       "      <td>3.78538</td>\n",
       "      <td>66.11321</td>\n",
       "      <td>145.05189</td>\n",
       "      <td>290.80189</td>\n",
       "      <td>699.56840</td>\n",
       "      <td>...</td>\n",
       "      <td>487.87028</td>\n",
       "      <td>536.90802</td>\n",
       "      <td>585.61557</td>\n",
       "      <td>711.08491</td>\n",
       "      <td>918.57547</td>\n",
       "      <td>637.46226</td>\n",
       "      <td>472.20991</td>\n",
       "      <td>538.37028</td>\n",
       "      <td>298.92217</td>\n",
       "      <td>102.95991</td>\n",
       "    </tr>\n",
       "  </tbody>\n",
       "</table>\n",
       "<p>5 rows × 26 columns</p>\n",
       "</div>"
      ],
      "text/plain": [
       "       date    total_p     00_p    01_p    02_p    03_p     04_p      05_p  \\\n",
       "0  20220101 4434.24528 15.76887 3.12028 1.66274 1.45283 16.04245  55.25236   \n",
       "1  20220102 4914.44575 14.59198 2.83962 1.62028 2.42453 14.06132  47.26179   \n",
       "2  20220103 9546.31368 22.16981 4.79481 3.21698 3.63443 62.38443 141.55425   \n",
       "3  20220104 9833.57075 22.83255 5.32075 3.31368 3.78538 66.11321 145.05189   \n",
       "4  20220105 9833.57075 22.83255 5.32075 3.31368 3.78538 66.11321 145.05189   \n",
       "\n",
       "       06_p      07_p  ...      14_p      15_p      16_p      17_p      18_p  \\\n",
       "0  91.55189 102.32075  ... 324.93396 346.96934 361.64858 361.41981 305.62028   \n",
       "1  75.37264 101.00708  ... 370.85849 387.57075 393.92453 384.72642 330.62500   \n",
       "2 291.20519 701.20991  ... 481.22406 522.90566 568.70755 694.84906 901.17925   \n",
       "3 290.80189 699.56840  ... 487.87028 536.90802 585.61557 711.08491 918.57547   \n",
       "4 290.80189 699.56840  ... 487.87028 536.90802 585.61557 711.08491 918.57547   \n",
       "\n",
       "       19_p      20_p      21_p      22_p      23_p  \n",
       "0 228.89623 235.08962 322.15802 184.67217  69.03066  \n",
       "1 257.03302 267.66274 328.26415 176.75000  65.78066  \n",
       "2 634.24528 453.98113 489.29481 274.91981  98.75943  \n",
       "3 637.46226 472.20991 538.37028 298.92217 102.95991  \n",
       "4 637.46226 472.20991 538.37028 298.92217 102.95991  \n",
       "\n",
       "[5 rows x 26 columns]"
      ]
     },
     "execution_count": 46,
     "metadata": {},
     "output_type": "execute_result"
    }
   ],
   "source": [
    "print(df.shape)\n",
    "df.head()"
   ]
  },
  {
   "cell_type": "markdown",
   "id": "f8cc4fb0",
   "metadata": {},
   "source": [
    "## 1.2 결측값 확인"
   ]
  },
  {
   "cell_type": "code",
   "execution_count": 50,
   "id": "b34d5752",
   "metadata": {},
   "outputs": [
    {
     "name": "stdout",
     "output_type": "stream",
     "text": [
      "column:       date\t Percent of Nan value: 0.00%\n",
      "column:    total_p\t Percent of Nan value: 0.00%\n",
      "column:       00_p\t Percent of Nan value: 0.00%\n",
      "column:       01_p\t Percent of Nan value: 0.00%\n",
      "column:       02_p\t Percent of Nan value: 0.00%\n",
      "column:       03_p\t Percent of Nan value: 0.00%\n",
      "column:       04_p\t Percent of Nan value: 0.00%\n",
      "column:       05_p\t Percent of Nan value: 0.00%\n",
      "column:       06_p\t Percent of Nan value: 0.00%\n",
      "column:       07_p\t Percent of Nan value: 0.00%\n",
      "column:       08_p\t Percent of Nan value: 0.00%\n",
      "column:       09_p\t Percent of Nan value: 0.00%\n",
      "column:       10_p\t Percent of Nan value: 0.00%\n",
      "column:       11_p\t Percent of Nan value: 0.00%\n",
      "column:       12_p\t Percent of Nan value: 0.00%\n",
      "column:       13_p\t Percent of Nan value: 0.00%\n",
      "column:       14_p\t Percent of Nan value: 0.00%\n",
      "column:       15_p\t Percent of Nan value: 0.00%\n",
      "column:       16_p\t Percent of Nan value: 0.00%\n",
      "column:       17_p\t Percent of Nan value: 0.00%\n",
      "column:       18_p\t Percent of Nan value: 0.00%\n",
      "column:       19_p\t Percent of Nan value: 0.00%\n",
      "column:       20_p\t Percent of Nan value: 0.00%\n",
      "column:       21_p\t Percent of Nan value: 0.00%\n",
      "column:       22_p\t Percent of Nan value: 0.00%\n",
      "column:       23_p\t Percent of Nan value: 0.00%\n"
     ]
    }
   ],
   "source": [
    "#결측값 확인\n",
    "for col in df.columns:\n",
    "    msg = 'column: {:>10}\\t Percent of Nan value: {:.2f}%'.format(col, 100*(df[col].isnull().sum()/df[col].shape[0]))\n",
    "    #해당 col의 null 개수/전체 개수\n",
    "    print(msg)"
   ]
  },
  {
   "cell_type": "code",
   "execution_count": 59,
   "id": "d39cfa80",
   "metadata": {},
   "outputs": [
    {
     "name": "stdout",
     "output_type": "stream",
     "text": [
      "2022년 1월 1일 ~ 2022년 5월 24일은 총 143일로 샘플 개수와 동일합니다.\n"
     ]
    }
   ],
   "source": [
    "from datetime import datetime\n",
    "\n",
    "date_diff = datetime.strptime(\"20220524\",\"%Y%m%d\")- datetime.strptime(\"20220101\",\"%Y%m%d\")\n",
    "if df.shape[0]==date_diff.days:\n",
    "    print(\"2022년 1월 1일 ~ 2022년 5월 24일은 총 %d일로 샘플 개수와 동일합니다.\" %date_diff.days)"
   ]
  },
  {
   "cell_type": "markdown",
   "id": "3dd5f0ae",
   "metadata": {},
   "source": [
    "## 1.3 '요일' 특성 추가"
   ]
  },
  {
   "cell_type": "code",
   "execution_count": 75,
   "id": "031f6fa7",
   "metadata": {},
   "outputs": [
    {
     "data": {
      "text/plain": [
       "6"
      ]
     },
     "execution_count": 75,
     "metadata": {},
     "output_type": "execute_result"
    }
   ],
   "source": [
    "#datetime(\"20220529\", \"%Y%m%d\").weekday()\n",
    "datetime(2022, 3, 27).weekday()\n",
    "datetime.strptime(\"20220529\", \"%Y%m%d\").weekday()"
   ]
  },
  {
   "cell_type": "code",
   "execution_count": 77,
   "id": "ce8e418e",
   "metadata": {},
   "outputs": [],
   "source": [
    "def get_weekday(date):\n",
    "    strdate = str(date)\n",
    "    weekday = datetime.strptime(strdate, \"%Y%m%d\").weekday()\n",
    "    return weekday\n",
    "\n",
    "df['weekday'] = df['date'].apply(get_weekday)"
   ]
  },
  {
   "cell_type": "code",
   "execution_count": 78,
   "id": "80af4583",
   "metadata": {},
   "outputs": [
    {
     "data": {
      "text/plain": [
       "0      5\n",
       "1      6\n",
       "2      0\n",
       "3      1\n",
       "4      2\n",
       "      ..\n",
       "138    4\n",
       "139    5\n",
       "140    6\n",
       "141    0\n",
       "142    1\n",
       "Name: weekday, Length: 143, dtype: int64"
      ]
     },
     "execution_count": 78,
     "metadata": {},
     "output_type": "execute_result"
    }
   ],
   "source": [
    "df['weekday']"
   ]
  },
  {
   "cell_type": "markdown",
   "id": "34f6ebf4",
   "metadata": {},
   "source": [
    "## 1.4 'date'에서 '연도' 삭제, 'month' 특성 추가"
   ]
  },
  {
   "cell_type": "code",
   "execution_count": 92,
   "id": "6250e605",
   "metadata": {},
   "outputs": [
    {
     "data": {
      "text/html": [
       "<div>\n",
       "<style scoped>\n",
       "    .dataframe tbody tr th:only-of-type {\n",
       "        vertical-align: middle;\n",
       "    }\n",
       "\n",
       "    .dataframe tbody tr th {\n",
       "        vertical-align: top;\n",
       "    }\n",
       "\n",
       "    .dataframe thead th {\n",
       "        text-align: right;\n",
       "    }\n",
       "</style>\n",
       "<table border=\"1\" class=\"dataframe\">\n",
       "  <thead>\n",
       "    <tr style=\"text-align: right;\">\n",
       "      <th></th>\n",
       "      <th>month</th>\n",
       "      <th>date</th>\n",
       "    </tr>\n",
       "  </thead>\n",
       "  <tbody>\n",
       "    <tr>\n",
       "      <th>0</th>\n",
       "      <td>1</td>\n",
       "      <td>101</td>\n",
       "    </tr>\n",
       "    <tr>\n",
       "      <th>1</th>\n",
       "      <td>1</td>\n",
       "      <td>102</td>\n",
       "    </tr>\n",
       "    <tr>\n",
       "      <th>2</th>\n",
       "      <td>1</td>\n",
       "      <td>103</td>\n",
       "    </tr>\n",
       "    <tr>\n",
       "      <th>3</th>\n",
       "      <td>1</td>\n",
       "      <td>104</td>\n",
       "    </tr>\n",
       "    <tr>\n",
       "      <th>4</th>\n",
       "      <td>1</td>\n",
       "      <td>105</td>\n",
       "    </tr>\n",
       "    <tr>\n",
       "      <th>...</th>\n",
       "      <td>...</td>\n",
       "      <td>...</td>\n",
       "    </tr>\n",
       "    <tr>\n",
       "      <th>138</th>\n",
       "      <td>5</td>\n",
       "      <td>520</td>\n",
       "    </tr>\n",
       "    <tr>\n",
       "      <th>139</th>\n",
       "      <td>5</td>\n",
       "      <td>521</td>\n",
       "    </tr>\n",
       "    <tr>\n",
       "      <th>140</th>\n",
       "      <td>5</td>\n",
       "      <td>522</td>\n",
       "    </tr>\n",
       "    <tr>\n",
       "      <th>141</th>\n",
       "      <td>5</td>\n",
       "      <td>523</td>\n",
       "    </tr>\n",
       "    <tr>\n",
       "      <th>142</th>\n",
       "      <td>5</td>\n",
       "      <td>524</td>\n",
       "    </tr>\n",
       "  </tbody>\n",
       "</table>\n",
       "<p>143 rows × 2 columns</p>\n",
       "</div>"
      ],
      "text/plain": [
       "     month  date\n",
       "0        1   101\n",
       "1        1   102\n",
       "2        1   103\n",
       "3        1   104\n",
       "4        1   105\n",
       "..     ...   ...\n",
       "138      5   520\n",
       "139      5   521\n",
       "140      5   522\n",
       "141      5   523\n",
       "142      5   524\n",
       "\n",
       "[143 rows x 2 columns]"
      ]
     },
     "execution_count": 92,
     "metadata": {},
     "output_type": "execute_result"
    }
   ],
   "source": [
    "#모두 2022년의 데이터 이므로 연도는 크게 의미가 없음\n",
    "#날짜가 정수형이므로 10000으로 나눈 나머지가 월과 날짜\n",
    "df['date'] = df['date'] % 10000\n",
    "#하는김에 'month'도 따로\n",
    "df['month'] = df['date'] // 100\n",
    "df[['month', 'date']]"
   ]
  },
  {
   "cell_type": "markdown",
   "id": "a284aa60",
   "metadata": {},
   "source": [
    "# 3. 데이터 탐색"
   ]
  },
  {
   "cell_type": "markdown",
   "id": "c945c84e",
   "metadata": {},
   "source": [
    "### 3.1 월별 총 이용객 수"
   ]
  },
  {
   "cell_type": "code",
   "execution_count": 158,
   "id": "2773000f",
   "metadata": {},
   "outputs": [
    {
     "data": {
      "image/png": "[encoded data removed]",
      "text/plain": [
       "<Figure size 1080x432 with 1 Axes>"
      ]
     },
     "metadata": {
      "needs_background": "light"
     },
     "output_type": "display_data"
    }
   ],
   "source": [
    "f, ax = plt.subplots(1,1, figsize=(15, 6))\n",
    "df[['month', 'total_p']].groupby(['month'], as_index=True).mean().plot.bar(ax=ax)\n",
    "plt.show()"
   ]
  },
  {
   "cell_type": "markdown",
   "id": "05135c51",
   "metadata": {},
   "source": [
    "- 월 별 큰 차이는 없으나 날씨가 좋은 4~5월에 이동량이 늘었다"
   ]
  },
  {
   "cell_type": "markdown",
   "id": "63f1f88d",
   "metadata": {},
   "source": [
    "### 3.1.2 날짜별 총 이용객 수"
   ]
  },
  {
   "cell_type": "code",
   "execution_count": 152,
   "id": "083f499f",
   "metadata": {},
   "outputs": [
    {
     "data": {
      "image/png": "[encoded data removed]",
      "text/plain": [
       "<Figure size 1080x432 with 1 Axes>"
      ]
     },
     "metadata": {
      "needs_background": "light"
     },
     "output_type": "display_data"
    }
   ],
   "source": [
    "f, ax = plt.subplots(1,1, figsize=(15, 6))\n",
    "df[['date', 'total_p']].groupby(['date'], as_index=True).mean().plot.bar(ax=ax)\n",
    "plt.xlabel('date')\n",
    "plt.locator_params(axis='x', nbins=len(df['date'])/30)\n",
    "\n",
    "plt.show()"
   ]
  },
  {
   "cell_type": "markdown",
   "id": "e80cf24c",
   "metadata": {},
   "source": [
    "- 일정한 패턴을 가지고 움직인다."
   ]
  },
  {
   "cell_type": "markdown",
   "id": "8a140cc0",
   "metadata": {},
   "source": [
    "### 3.1.3 요일별 총 이용객 수"
   ]
  },
  {
   "cell_type": "code",
   "execution_count": 153,
   "id": "ca55a3ca",
   "metadata": {},
   "outputs": [
    {
     "data": {
      "image/png": "[encoded data removed]",
      "text/plain": [
       "<Figure size 1080x432 with 1 Axes>"
      ]
     },
     "metadata": {
      "needs_background": "light"
     },
     "output_type": "display_data"
    }
   ],
   "source": [
    "f, ax = plt.subplots(1,1, figsize=(15, 6))\n",
    "df[['weekday', 'total_p']].groupby(['weekday'], as_index=True).mean().plot.bar(ax=ax)\n",
    "plt.show()"
   ]
  },
  {
   "cell_type": "markdown",
   "id": "7b26d074",
   "metadata": {},
   "source": [
    "- 평일과 주말의 차이가 크다.\n",
    "- 금요일이 제일 많이 이동한다."
   ]
  },
  {
   "cell_type": "markdown",
   "id": "f3e64514",
   "metadata": {},
   "source": [
    "### 3.1.4 시간대별 총 이용객 수"
   ]
  },
  {
   "cell_type": "code",
   "execution_count": 183,
   "id": "1b3803ff",
   "metadata": {},
   "outputs": [
    {
     "data": {
      "image/png": "[encoded data removed]",
      "text/plain": [
       "<Figure size 1440x432 with 1 Axes>"
      ]
     },
     "metadata": {
      "needs_background": "light"
     },
     "output_type": "display_data"
    }
   ],
   "source": [
    "plt.figure(figsize=(20, 6))\n",
    "plt.bar(df.columns[2:25],df.iloc[:,2:25].sum())\n",
    "plt.show()"
   ]
  },
  {
   "cell_type": "markdown",
   "id": "edce05f0",
   "metadata": {},
   "source": [
    "- 아침 8시와 저녁 6시가 피크"
   ]
  },
  {
   "cell_type": "code",
   "execution_count": 208,
   "id": "59acb985",
   "metadata": {},
   "outputs": [
    {
     "data": {
      "text/plain": [
       "<AxesSubplot:>"
      ]
     },
     "execution_count": 208,
     "metadata": {},
     "output_type": "execute_result"
    },
    {
     "data": {
      "image/png": "[encoded data removed]",
      "text/plain": [
       "<Figure size 2880x1440 with 8 Axes>"
      ]
     },
     "metadata": {
      "needs_background": "light"
     },
     "output_type": "display_data"
    }
   ],
   "source": [
    "f, ax = plt.subplots(4,2, figsize=(40, 20))\n",
    "\n",
    "df[df['weekday']==0].iloc[:,6:25].mean().plot.bar(ax=ax[0][0])\n",
    "df[df['weekday']==1].iloc[:,6:25].mean().plot.bar(ax=ax[0][1])\n",
    "df[df['weekday']==2].iloc[:,6:25].mean().plot.bar(ax=ax[1][0])\n",
    "df[df['weekday']==3].iloc[:,6:25].mean().plot.bar(ax=ax[1][1])\n",
    "df[df['weekday']==4].iloc[:,6:25].mean().plot.bar(ax=ax[2][0])\n",
    "df[df['weekday']==5].iloc[:,6:25].mean().plot.bar(ax=ax[2][1])\n",
    "df[df['weekday']==6].iloc[:,6:25].mean().plot.bar(ax=ax[3][0])"
   ]
  },
  {
   "cell_type": "code",
   "execution_count": null,
   "id": "e8ce708e",
   "metadata": {},
   "outputs": [],
   "source": []
  }
 ],
 "metadata": {
  "kernelspec": {
   "display_name": "Python 3 (ipykernel)",
   "language": "python",
   "name": "python3"
  },
  "language_info": {
   "codemirror_mode": {
    "name": "ipython",
    "version": 3
   },
   "file_extension": ".py",
   "mimetype": "text/x-python",
   "name": "python",
   "nbconvert_exporter": "python",
   "pygments_lexer": "ipython3",
   "version": "3.9.7"
  }
 },
 "nbformat": 4,
 "nbformat_minor": 5
}
